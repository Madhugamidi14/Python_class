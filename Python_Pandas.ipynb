import pandas as pd

pd.read_csv(r'C:\Users\madhu\ohana-api-master\ohana-api-master\data\sample-csv\addresses.csv')